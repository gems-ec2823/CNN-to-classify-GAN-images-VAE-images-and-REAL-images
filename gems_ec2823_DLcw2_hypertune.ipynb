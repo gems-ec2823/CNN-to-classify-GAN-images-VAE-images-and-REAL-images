{
  "nbformat": 4,
  "nbformat_minor": 0,
  "metadata": {
    "colab": {
      "provenance": [],
      "gpuType": "V100"
    },
    "kernelspec": {
      "name": "python3",
      "display_name": "Python 3"
    },
    "language_info": {
      "name": "python"
    },
    "accelerator": "GPU"
  },
  "cells": [
    {
      "cell_type": "code",
      "execution_count": null,
      "metadata": {
        "colab": {
          "base_uri": "https://localhost:8080/"
        },
        "id": "6hvLdVPDr6NW",
        "outputId": "16746b52-8b9b-46f3-c55c-904e92dad300"
      },
      "outputs": [
        {
          "output_type": "stream",
          "name": "stdout",
          "text": [
            "Mounted at /content/drive\n"
          ]
        }
      ],
      "source": [
        "from google.colab import drive\n",
        "drive.mount('/content/drive')  #access the images I have stored in my drive"
      ]
    },
    {
      "cell_type": "markdown",
      "source": [
        "# First attempt"
      ],
      "metadata": {
        "id": "FDTuHGdWbmtf"
      }
    },
    {
      "cell_type": "code",
      "source": [
        "import os\n",
        "import torch\n",
        "from torch.utils.data import Dataset, DataLoader, random_split\n",
        "from torchvision import transforms\n",
        "from PIL import Image\n",
        "\n",
        "class CustomDataset(Dataset):\n",
        "    def __init__(self, directories, transform=None):\n",
        "        self.transform = transform\n",
        "        self.samples = []\n",
        "\n",
        "        for label, directory in enumerate(directories):\n",
        "            for filename in os.listdir(directory):\n",
        "                path = os.path.join(directory, filename)\n",
        "                self.samples.append((path, label))\n",
        "\n",
        "    def __len__(self):\n",
        "        return len(self.samples)\n",
        "\n",
        "    def __getitem__(self, idx):\n",
        "        path, label = self.samples[idx]\n",
        "        image = Image.open(path).convert('L')\n",
        "        if self.transform:\n",
        "            image = self.transform(image)\n",
        "        return image, label\n",
        "\n",
        "directories = [\"/content/drive/My Drive/real_hands\",\n",
        "               \"/content/drive/My Drive/VAE_hands\",\n",
        "               \"/content/drive/My Drive/GAN_hands\"]\n",
        "\n",
        "train_transforms = transforms.Compose([\n",
        "    transforms.Resize((32, 32)),\n",
        "    #transforms.RandomHorizontalFlip(),\n",
        "    #transforms.RandomRotation(5),\n",
        "    #transforms.RandomCrop(32, padding=4),\n",
        "    transforms.ToTensor(),\n",
        "    transforms.Normalize([0.5], [0.5])\n",
        "])\n",
        "test_transforms = transforms.Compose([\n",
        "    transforms.Resize((32, 32)),\n",
        "    transforms.ToTensor(),\n",
        "    transforms.Normalize([0.5], [0.5])\n",
        "])\n",
        "\n",
        "dataset = CustomDataset(directories)\n",
        "\n",
        "\n",
        "train_size = int(0.8 * len(dataset))\n",
        "test_size = len(dataset) - train_size\n",
        "train_dataset, test_dataset = random_split(dataset, [train_size, test_size])\n",
        "\n",
        "train_dataset.dataset.transform = train_transforms\n",
        "test_dataset.dataset.transform = test_transforms\n",
        "\n",
        "train_loader = DataLoader(train_dataset, batch_size=32, shuffle=True)\n",
        "test_loader = DataLoader(test_dataset, batch_size=32, shuffle=False)"
      ],
      "metadata": {
        "id": "POPbwXgrr8qu"
      },
      "execution_count": null,
      "outputs": []
    },
    {
      "cell_type": "code",
      "source": [
        "import torch\n",
        "import torch.nn as nn\n",
        "import torch.nn.functional as F\n",
        "\n",
        "class EnhancedCNN(nn.Module):\n",
        "    def __init__(self):\n",
        "        super(EnhancedCNN, self).__init__()\n",
        "        self.conv1 = nn.Conv2d(1, 32, kernel_size=3, padding=1)\n",
        "        self.bn1 = nn.BatchNorm2d(32)\n",
        "        self.conv2 = nn.Conv2d(32, 64, kernel_size=3, padding=1)\n",
        "        self.bn2 = nn.BatchNorm2d(64)\n",
        "        self.residual1 = self._make_residual(64, 128)\n",
        "        self.residual2 = self._make_residual(128, 128)\n",
        "        self.fc1 = nn.Linear(128 * 8 * 8, 256)\n",
        "        self.bn3 = nn.BatchNorm1d(256)\n",
        "        self.fc2 = nn.Linear(256, 3)\n",
        "\n",
        "    def _make_residual(self, in_channels, out_channels):\n",
        "        layers = [\n",
        "            nn.Conv2d(in_channels, out_channels, kernel_size=3, padding=1, stride=2),\n",
        "            nn.BatchNorm2d(out_channels),\n",
        "            nn.ReLU(inplace=True),\n",
        "            nn.Conv2d(out_channels, out_channels, kernel_size=3, padding=1),\n",
        "            nn.BatchNorm2d(out_channels)\n",
        "        ]\n",
        "        return nn.Sequential(*layers)\n",
        "\n",
        "    def forward(self, x):\n",
        "        x = F.relu(self.bn1(self.conv1(x)))\n",
        "        x = F.relu(self.bn2(self.conv2(x)))\n",
        "        x = self.residual1(x)\n",
        "        x = self.residual2(x)\n",
        "        x = x.view(-1, 128 * 8 * 8)\n",
        "        x = F.relu(self.bn3(self.fc1(x)))\n",
        "        x = self.fc2(x)\n",
        "        return x\n",
        "\n",
        "device = torch.device(\"cuda:0\" if torch.cuda.is_available() else \"cpu\")\n",
        "model = EnhancedCNN().to(device)"
      ],
      "metadata": {
        "id": "R6EWbXjar8tl"
      },
      "execution_count": null,
      "outputs": []
    },
    {
      "cell_type": "markdown",
      "source": [
        "EnhancedCNN is an advanced convolutional neural network model that incorporates BatchNorm layers and residual blocks to improve learning. It starts with two convolutional layers followed by batch normalisation and ReLU activation. Next, it implements two residual blocks that allow information to flow more efficiently through the network and avoid the problems of vanishing or exploding gradients, making the model deeper while facilitating training. The network ends with two fully connected layers with batch normalisation on the first. The model is adapted for classification into three classes"
      ],
      "metadata": {
        "id": "yg_Q2US7cMX0"
      }
    },
    {
      "cell_type": "code",
      "source": [
        "weights = torch.tensor([1.0, 1.5, 2.0]) #weight to be given to each categoruie\n",
        "\n",
        "weights = weights / weights.min()\n",
        "\n",
        "criterion = nn.CrossEntropyLoss(weight=weights.to(device))\n",
        "\n",
        "#print(weights)\n"
      ],
      "metadata": {
        "id": "atoIbvyM3-TI"
      },
      "execution_count": null,
      "outputs": []
    },
    {
      "cell_type": "code",
      "source": [
        "optimizer = torch.optim.Adam(model.parameters(), lr=0.001)\n"
      ],
      "metadata": {
        "id": "DRbhJuo4r81V"
      },
      "execution_count": null,
      "outputs": []
    },
    {
      "cell_type": "code",
      "source": [
        "for epoch in range(50):\n",
        "    running_loss = 0.0\n",
        "    for inputs, labels in train_loader:\n",
        "        inputs, labels = inputs.to(device), labels.to(device)\n",
        "        optimizer.zero_grad()\n",
        "        outputs = model(inputs)\n",
        "        loss = criterion(outputs, labels)\n",
        "        loss.backward()\n",
        "        optimizer.step()\n",
        "        running_loss += loss.item()\n",
        "\n",
        "    print(f'Epoch {epoch+1} loss: {running_loss/len(train_loader)}')\n"
      ],
      "metadata": {
        "colab": {
          "base_uri": "https://localhost:8080/"
        },
        "id": "d9UVA4wNr84O",
        "outputId": "fffae8a6-4a03-4e99-e604-595ffcba5c57"
      },
      "execution_count": null,
      "outputs": [
        {
          "output_type": "stream",
          "name": "stdout",
          "text": [
            "Epoch 1 loss: 0.2067961845093885\n",
            "Epoch 2 loss: 0.025016032982101612\n",
            "Epoch 3 loss: 0.034389147247861115\n",
            "Epoch 4 loss: 0.008083698423925435\n",
            "Epoch 5 loss: 0.0019854961457305173\n",
            "Epoch 6 loss: 0.0015846955782615475\n",
            "Epoch 7 loss: 0.0001951212089880829\n",
            "Epoch 8 loss: 8.959072931395133e-05\n",
            "Epoch 9 loss: 6.736328759870958e-05\n",
            "Epoch 10 loss: 5.5704711949270074e-05\n",
            "Epoch 11 loss: 4.9388417769355204e-05\n",
            "Epoch 12 loss: 4.381478544707312e-05\n",
            "Epoch 13 loss: 3.7711453725588966e-05\n",
            "Epoch 14 loss: 3.4253019650252e-05\n",
            "Epoch 15 loss: 3.122031963308424e-05\n",
            "Epoch 16 loss: 2.9191781359750656e-05\n",
            "Epoch 17 loss: 2.5692372845868875e-05\n",
            "Epoch 18 loss: 2.4418053579063633e-05\n",
            "Epoch 19 loss: 2.2205469245032088e-05\n",
            "Epoch 20 loss: 2.05702498152351e-05\n",
            "Epoch 21 loss: 1.9068600545631705e-05\n",
            "Epoch 22 loss: 1.753509244785213e-05\n",
            "Epoch 23 loss: 1.6617791663668106e-05\n",
            "Epoch 24 loss: 1.5733856042896986e-05\n",
            "Epoch 25 loss: 1.4980769575428181e-05\n",
            "Epoch 26 loss: 1.3799073946535606e-05\n",
            "Epoch 27 loss: 1.3138512535128078e-05\n",
            "Epoch 28 loss: 1.2310677079398915e-05\n",
            "Epoch 29 loss: 1.1569111374892355e-05\n",
            "Epoch 30 loss: 1.0972333761763957e-05\n",
            "Epoch 31 loss: 1.0668115876526556e-05\n",
            "Epoch 32 loss: 1.0182974905718938e-05\n",
            "Epoch 33 loss: 9.540813627572297e-06\n",
            "Epoch 34 loss: 9.109888092221022e-06\n",
            "Epoch 35 loss: 8.534866359745186e-06\n",
            "Epoch 36 loss: 8.424323848000338e-06\n",
            "Epoch 37 loss: 7.847324957003514e-06\n",
            "Epoch 38 loss: 7.496639958893915e-06\n",
            "Epoch 39 loss: 7.165527812184017e-06\n",
            "Epoch 40 loss: 6.894819768382837e-06\n",
            "Epoch 41 loss: 6.560264129166785e-06\n",
            "Epoch 42 loss: 6.36679618383897e-06\n",
            "Epoch 43 loss: 6.074964022519526e-06\n",
            "Epoch 44 loss: 5.816576184450831e-06\n",
            "Epoch 45 loss: 5.52075415898061e-06\n",
            "Epoch 46 loss: 5.439046396310693e-06\n",
            "Epoch 47 loss: 5.2431034167032495e-06\n",
            "Epoch 48 loss: 4.997717378439513e-06\n",
            "Epoch 49 loss: 4.771663782321411e-06\n",
            "Epoch 50 loss: 4.694793133424085e-06\n"
          ]
        }
      ]
    },
    {
      "cell_type": "code",
      "source": [
        "model.eval()\n",
        "\n",
        "correct = 0\n",
        "total = 0\n",
        "\n",
        "with torch.no_grad():\n",
        "    for inputs, labels in test_loader:\n",
        "        inputs, labels = inputs.to(device), labels.to(device)\n",
        "        outputs = model(inputs)\n",
        "\n",
        "        _, predicted = torch.max(outputs.data, 1)\n",
        "\n",
        "        total += labels.size(0)\n",
        "        correct += (predicted == labels).sum().item()\n",
        "\n",
        "accuracy = 100 * correct / total\n",
        "accuracy"
      ],
      "metadata": {
        "colab": {
          "base_uri": "https://localhost:8080/"
        },
        "id": "Nf49OOEwvwa8",
        "outputId": "b1567345-183f-43a6-e484-13f355e6eaa0"
      },
      "execution_count": null,
      "outputs": [
        {
          "output_type": "execute_result",
          "data": {
            "text/plain": [
              "81.78694158075601"
            ]
          },
          "metadata": {},
          "execution_count": 121
        }
      ]
    },
    {
      "cell_type": "code",
      "source": [
        "from sklearn.metrics import confusion_matrix\n",
        "import numpy as np\n",
        "\n",
        "all_preds = []\n",
        "all_labels = []\n",
        "\n",
        "model.eval()\n",
        "with torch.no_grad():\n",
        "    for inputs, labels in test_loader:\n",
        "        inputs, labels = inputs.to(device), labels.to(device)\n",
        "        outputs = model(inputs)\n",
        "        _, predicted = torch.max(outputs.data, 1)\n",
        "\n",
        "        all_preds.extend(predicted.cpu().numpy())\n",
        "        all_labels.extend(labels.cpu().numpy())\n",
        "\n",
        "conf_matrix = confusion_matrix(all_labels, all_preds)\n"
      ],
      "metadata": {
        "id": "mwerqjpevwff"
      },
      "execution_count": null,
      "outputs": []
    },
    {
      "cell_type": "code",
      "source": [
        "import matplotlib.pyplot as plt\n",
        "import seaborn as sns\n",
        "\n",
        "plt.figure(figsize=(10, 7))\n",
        "sns.heatmap(conf_matrix, annot=True, fmt='g')\n",
        "plt.xlabel('Predicted')\n",
        "plt.ylabel('True')\n",
        "plt.show()\n"
      ],
      "metadata": {
        "colab": {
          "base_uri": "https://localhost:8080/",
          "height": 619
        },
        "id": "YWCYyGUe1GSE",
        "outputId": "526f3087-e868-4acd-f5ef-bbed7171f3f2"
      },
      "execution_count": null,
      "outputs": [
        {
          "output_type": "display_data",
          "data": {
            "text/plain": [
              "<Figure size 1000x700 with 2 Axes>"
            ],
            "image/png": "[encoded data removed]"
          },
          "metadata": {}
        }
      ]
    },
    {
      "cell_type": "markdown",
      "source": [
        "Despite our attempts at optimisation, we're not getting satisfactory results. The shortcomings come mainly from the detection of our gan. Even if we exploit the asymmetry between real and gan detection by adding real images to our dataset, we obtain similar results."
      ],
      "metadata": {
        "id": "LODQaZYycnG3"
      }
    },
    {
      "cell_type": "markdown",
      "source": [
        "------------------------------------------------------------"
      ],
      "metadata": {
        "id": "Hk773cfdfrG_"
      }
    },
    {
      "cell_type": "markdown",
      "source": [
        "Given that the image classification for vae and real is very good with this model. I first tried to classify only vae and real and if the confidence in the prediction is higher than a thresold then the prediction is not modified and if it is lower then it is changed in 2 (for gan)."
      ],
      "metadata": {
        "id": "8fD077VoftG2"
      }
    },
    {
      "cell_type": "code",
      "source": [],
      "metadata": {
        "id": "nJSmISz3enOI"
      },
      "execution_count": null,
      "outputs": []
    },
    {
      "cell_type": "code",
      "source": [
        "def classify_vae_real_then_gan(image, model, threshold=0.9):\n",
        "    output = model(image)\n",
        "    confidence = torch.nn.functional.softmax(output, dim=1)\n",
        "    _, predicted = torch.max(output.data, 1)\n",
        "\n",
        "    if confidence[0][predicted] >= threshold:\n",
        "        return predicted.item()\n",
        "    else:\n",
        "        return 2\n",
        "\n",
        "model.eval()\n",
        "all_labels = []\n",
        "all_preds = []\n",
        "\n",
        "with torch.no_grad():\n",
        "    for inputs, labels in test_loader:\n",
        "        inputs, labels = inputs.to(device), labels.to(device)\n",
        "        for i in range(inputs.size(0)):\n",
        "            pred = classify_vae_real_then_gan(inputs[i].unsqueeze(0), model)\n",
        "            all_preds.append(pred)\n",
        "            all_labels.append(labels[i].item())\n",
        "\n",
        "correct = sum([1 for i in range(len(all_labels)) if all_labels[i] == all_preds[i]])\n",
        "accuracy = 100 * correct / len(all_labels)\n",
        "print(f'Combined Model Accuracy: {accuracy}%')\n"
      ],
      "metadata": {
        "colab": {
          "base_uri": "https://localhost:8080/"
        },
        "id": "McQ2XFOkysCi",
        "outputId": "e0704a8a-8847-4227-e6a5-d4c67b8f959c"
      },
      "execution_count": null,
      "outputs": [
        {
          "output_type": "stream",
          "name": "stdout",
          "text": [
            "Combined Model Accuracy: 34.18803418803419%\n"
          ]
        }
      ]
    },
    {
      "cell_type": "code",
      "source": [
        "from sklearn.metrics import confusion_matrix\n",
        "import matplotlib.pyplot as plt\n",
        "import seaborn as sns\n",
        "\n",
        "model.eval()\n",
        "all_labels = []\n",
        "all_preds = []\n",
        "\n",
        "with torch.no_grad():\n",
        "    for inputs, labels in test_loader:\n",
        "        inputs, labels = inputs.to(device), labels.to(device)\n",
        "        for i in range(inputs.size(0)):\n",
        "            pred = classify_vae_real_then_gan(inputs[i].unsqueeze(0), model)\n",
        "            all_preds.append(pred)\n",
        "            all_labels.append(labels[i].item())\n",
        "\n",
        "conf_matrix = confusion_matrix(all_labels, all_preds)\n",
        "\n",
        "plt.figure(figsize=(10, 7))\n",
        "sns.heatmap(conf_matrix, annot=True, fmt='g')\n",
        "plt.xlabel('Predicted')\n",
        "plt.ylabel('True')\n",
        "plt.title('Confusion Matrix')\n",
        "plt.show()\n"
      ],
      "metadata": {
        "colab": {
          "base_uri": "https://localhost:8080/",
          "height": 641
        },
        "id": "zERSrg7gysFG",
        "outputId": "91809b17-b1c7-48be-cde5-09cb02e2b7f6"
      },
      "execution_count": null,
      "outputs": [
        {
          "output_type": "display_data",
          "data": {
            "text/plain": [
              "<Figure size 1000x700 with 2 Axes>"
            ],
            "image/png": "[encoded data removed]"
          },
          "metadata": {}
        }
      ]
    },
    {
      "cell_type": "markdown",
      "source": [
        "# It's very difficult to adjust the threshold, so I've given up on the track."
      ],
      "metadata": {
        "id": "6QKBsQG9ggq-"
      }
    },
    {
      "cell_type": "markdown",
      "source": [
        "---------------------------------------------------------------------------"
      ],
      "metadata": {
        "id": "sEvR-ea-lt-E"
      }
    },
    {
      "cell_type": "markdown",
      "source": [
        "Last week I had a Gan and a VAE for assessment. I reused them here to generate 1000 images of each. I also used the previous data set real_hands to get 1000 images too. I trained my model on this alone and then ran the tests on the new data sets from assessment 2. The results weren't any better because my model had learned to detect only images from my generator, which isn't good. So I also gave up"
      ],
      "metadata": {
        "id": "JuHbwVp-lye0"
      }
    },
    {
      "cell_type": "code",
      "source": [
        "import matplotlib.pyplot as plt\n",
        "import seaborn as sns\n",
        "\n",
        "plt.figure(figsize=(10, 7))\n",
        "sns.heatmap(conf_matrix, annot=True, fmt='g')\n",
        "plt.xlabel('Predicted')\n",
        "plt.ylabel('True')\n",
        "plt.show()"
      ],
      "metadata": {
        "colab": {
          "base_uri": "https://localhost:8080/",
          "height": 624
        },
        "id": "cfsIJVicFkIA",
        "outputId": "23d79309-480f-4ec6-b924-473852c1b74a"
      },
      "execution_count": null,
      "outputs": [
        {
          "output_type": "display_data",
          "data": {
            "text/plain": [
              "<Figure size 1000x700 with 2 Axes>"
            ],
            "image/png": "[encoded data removed]"
          },
          "metadata": {}
        }
      ]
    },
    {
      "cell_type": "markdown",
      "source": [
        "# I went back to a simpler model using data augmentation, I played with the hyperparameters for hours trying to get the best combination: results in the clean notebook."
      ],
      "metadata": {
        "id": "58XFFSGzm0ab"
      }
    }
  ]
}